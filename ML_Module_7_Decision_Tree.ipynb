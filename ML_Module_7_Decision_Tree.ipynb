{
  "nbformat": 4,
  "nbformat_minor": 0,
  "metadata": {
    "colab": {
      "provenance": []
    },
    "kernelspec": {
      "name": "python3",
      "display_name": "Python 3"
    },
    "language_info": {
      "name": "python"
    }
  },
  "cells": [
    {
      "cell_type": "markdown",
      "source": [
        "# **Decision Tree - Assignment**"
      ],
      "metadata": {
        "id": "Pb1SlJfLiqtV"
      }
    },
    {
      "cell_type": "markdown",
      "source": [
        "# **Theoretical Questions**"
      ],
      "metadata": {
        "id": "0h1_xHRAi18-"
      }
    },
    {
      "cell_type": "markdown",
      "source": [
        "Q1. What is a Decision Tree, and how does it work ?\n",
        "- A Decision Tree is a supervised machine learning algorithm used for classification and regression tasks. It works by breaking down a dataset into smaller subsets based on feature values, forming a tree-like model of decisions.\n",
        "- Root Node: The tree starts with a root node, which represents the entire dataset. The best feature to split on is selected based on criteria like Gini impurity or entropy (for classification) and mean squared error (MSE)\n",
        "- Splitting: The dataset is split into two or more subsets based on a chosen feature and threshold. The goal is to create the most homogeneous groups.\n",
        "- Decision Nodes: Each internal node represents a decision on a feature. The process of splitting continues recursively until a stopping condition is met.\n",
        "- Leaf Nodes: These are the final nodes in the tree, representing the output."
      ],
      "metadata": {
        "id": "XLHM_7Jci8Nb"
      }
    },
    {
      "cell_type": "markdown",
      "source": [
        "Q2. What are impurity measures in Decision Trees?\n",
        "- Impurity measures are metrics used to determine how mixed (or impure) the data is at a given node. The goal of a Decision Tree is to split the data in a way that reduces impurity, making the child nodes more homogeneous.\n",
        "- Here are the three main impurity measures: Gini Impurity (Used in CART Algorithm), Entropy (Used in ID3 and C4.5 Algorithms), Mean Squared Error (MSE) (Used in Regression Trees)."
      ],
      "metadata": {
        "id": "ajsbEpdcjQQi"
      }
    },
    {
      "cell_type": "markdown",
      "source": [
        "Q3. What is the mathematical formula for Gini Impurity?\n",
        "- The Gini Impurity measures how often a randomly chosen element would be incorrectly classified if it were randomly labeled according to the class distribution in a given node. Gini =  \n",
        "1 -\n",
        "∑\n",
        "pi\n",
        "2\n"
      ],
      "metadata": {
        "id": "5ciM3TrijfpE"
      }
    },
    {
      "cell_type": "markdown",
      "source": [
        "Q4.  What is the mathematical formula for Entropy?\n",
        "- Entropy is a measure of impurity or randomness in a dataset. It quantifies the amount of uncertainty in a system and is used in Decision Trees to determine the best feature for splitting data.\n",
        "- Entropy = −\n",
        "∑\n",
        " pi\n",
        " log2 pi\n",
        "​\n"
      ],
      "metadata": {
        "id": "YysoK54VkGEb"
      }
    },
    {
      "cell_type": "markdown",
      "source": [
        "Q5. What is Information Gain, and how is it used in Decision Trees?\n",
        "- Information Gain (IG) is a metric used in Decision Trees to determine the best feature for splitting the data. It measures how much uncertainty (entropy) is reduced after a split. The higher the Information Gain, the better the split.\n",
        "- Compute Parent Node Entropy: Calculate the entropy of the dataset before the split.\n",
        "- Split on a Feature: Partition the data based on different feature values.\n",
        "- Compute Weighted Entropy of Child Nodes: Calculate entropy for each subset and take a weighted sum.\n",
        "- Calculate Information Gain: Subtract the weighted entropy from the parent entropy."
      ],
      "metadata": {
        "id": "lprGFru6kfhq"
      }
    },
    {
      "cell_type": "markdown",
      "source": [
        "Q6. What is the difference between Gini Impurity and Entropy?\n",
        "- Gini Impurity = Gini Impurity and Entropy are both impurity measures used in Decision Trees to determine the best feature for splitting data, but they differ in how they calculate impurity. Gini Impurity measures the probability of misclassifying a randomly chosen sample if it were labeled according to the class distribution at a node. It is computationally simpler and faster since it does not involve logarithmic calculations.\n",
        "- Entropy =  Entropy is based on information theory and measures the disorder or uncertainty in the data. It involves logarithmic computations, making it slightly more computationally expensive than Gini. While both metrics typically lead to similar tree structures, Entropy is more sensitive to class distributions, meaning it may slightly favor more balanced splits, whereas Gini tends to focus more on the most dominant class."
      ],
      "metadata": {
        "id": "iXAry2GdkugP"
      }
    },
    {
      "cell_type": "markdown",
      "source": [
        "Q7. What is the mathematical explanation behind Decision Trees?\n",
        "- Decision Trees use mathematical optimization techniques to find the best feature splits, minimize impurity (for classification) or variance (for regression), and recursively build a tree structure. The choice of splitting criterion (Gini, Entropy, MSE) influences the decision-making process, and pruning techniques help prevent overfitting."
      ],
      "metadata": {
        "id": "jHVyKebglY-7"
      }
    },
    {
      "cell_type": "markdown",
      "source": [
        "Q8. What is Pre-Pruning in Decision Trees?\n",
        "- Pre-Pruning (also known as early stopping) is a technique used to prevent a Decision Tree from growing too large and overfitting the training data. It involves setting constraints on the tree's growth before it fully develops.\n",
        "\n"
      ],
      "metadata": {
        "id": "8kHVfQ5clkRf"
      }
    },
    {
      "cell_type": "markdown",
      "source": [
        "Q9. What is Post-Pruning in Decision Trees?\n",
        "- Post-Pruning (also called pruning after training) is a technique used to reduce the complexity of a fully grown Decision Tree by removing unnecessary branches after it has been built. The goal is to improve generalization and prevent overfitting."
      ],
      "metadata": {
        "id": "i1r-oJv3ls25"
      }
    },
    {
      "cell_type": "markdown",
      "source": [
        "Q10. What is the difference between Pre-Pruning and Post-Pruning?\n",
        "- Pre-Pruning = Pre-Pruning and Post-Pruning are both techniques used to prevent overfitting in Decision Trees, but they differ in when and how they are applied. Pre-Pruning (also known as early stopping) stops the tree from growing beyond a certain point by setting constraints such as maximum depth, minimum samples per split, or minimum impurity decrease. It prevents overfitting by limiting complexity before the tree is fully grown but risks underfitting if the constraints are too strict.\n",
        "- Post-Pruning = Post-Pruning involves first growing the tree to its maximum depth and then removing branches that do not contribute significantly to accuracy. This approach, often based on techniques like Cost Complexity Pruning (CCP), allows the tree to capture all patterns initially and then eliminates unnecessary branches to improve generalization. While Pre-Pruning is computationally efficient, it may prematurely stop valuable splits."
      ],
      "metadata": {
        "id": "xZqkfCmkmabQ"
      }
    },
    {
      "cell_type": "markdown",
      "source": [
        "Q11. What is a Decision Tree Regressor?\n",
        "- A Decision Tree Regressor is a type of decision tree algorithm used for predicting continuous values rather than categorical labels. Unlike classification trees, which assign class labels to data points, a decision tree regressor predicts numerical outcomes by splitting the data into regions and assigning the mean (or sometimes median) of the target values in each region."
      ],
      "metadata": {
        "id": "fj5_sqb7mqjb"
      }
    },
    {
      "cell_type": "markdown",
      "source": [
        "Q12. What are the advantages and disadvantages of Decision Trees?\n",
        "- Advantages = Decision Trees offer several advantages, making them a popular choice for both classification and regression tasks. They are easy to understand and interpret, as their structure mimics human decision-making. They require minimal data preprocessing, meaning they can handle missing values and do not require feature scaling. Additionally, Decision Trees can capture complex, non-linear relationships and work well with both numerical and categorical data.\n",
        "- Disadvantages = They are highly prone to overfitting, especially if the tree is deep and not pruned, leading to poor generalization on unseen data. Decision Trees are also sensitive to small variations in data, which can result in different splits and drastically different trees."
      ],
      "metadata": {
        "id": "qHTJf5PNmwsG"
      }
    },
    {
      "cell_type": "markdown",
      "source": [
        "Q13. How does a Decision Tree handle missing values?\n",
        "- Decision Trees have built-in mechanisms to handle missing values effectively, making them robust compared to other models that require imputation.\n",
        "- Ignoring Missing Values in Splitting\n",
        "- Surrogate Splitting (Used in CART Algorithm)\n",
        "- Assigning to the Most Common Branch\n",
        "- Using Probabilistic Splits\n",
        "- Handling Missing Values Before Training"
      ],
      "metadata": {
        "id": "GH0MULD2nASF"
      }
    },
    {
      "cell_type": "markdown",
      "source": [
        "Q14. How does a Decision Tree handle categorical features?\n",
        "- Decision Trees can naturally handle categorical features without needing explicit encoding, unlike models like linear regression or SVM. However, the method depends on the specific implementation of the Decision Tree algorithm. Here’s how they handle categorical data:\n",
        "- One-Hot Encoding (Binary Splitting)\n",
        "- Label Encoding (Ordinal Encoding)\n",
        "- Direct Categorical Splitting (Used in Some Algorithms)"
      ],
      "metadata": {
        "id": "DfQIBFAwnUhC"
      }
    },
    {
      "cell_type": "markdown",
      "source": [
        "Q15. What are some real-world applications of Decision Trees?\n",
        "- Decision Trees are widely used across various industries due to their interpretability, flexibility, and ability to handle both numerical and categorical data. Here are some key real-world applications:\n",
        "- Healthcare & Medical Diagnosis\n",
        "- Finance & Banking\n",
        "- E-Commerce & Retail\n",
        "- Marketing & Advertising\n",
        "- Manufacturing & Quality Control"
      ],
      "metadata": {
        "id": "GqoT0diBngIq"
      }
    },
    {
      "cell_type": "markdown",
      "source": [
        "# **Practical Questions**"
      ],
      "metadata": {
        "id": "50fgo6ABnt67"
      }
    },
    {
      "cell_type": "code",
      "source": [
        "# Q16. Write a Python program to train a Decision Tree Classifier on the Iris dataset and print the model accuracy.\n",
        "\n",
        "from sklearn.datasets import load_iris\n",
        "from sklearn.model_selection import train_test_split\n",
        "from sklearn.tree import DecisionTreeClassifier\n",
        "from sklearn.metrics import accuracy_score\n",
        "\n",
        "iris = load_iris()\n",
        "X = iris.data\n",
        "y = iris.target\n",
        "\n",
        "X_train, X_test, y_train, y_test = train_test_split(X, y, test_size=0.2, random_state=42)\n",
        "\n",
        "clf = DecisionTreeClassifier(criterion=\"gini\", max_depth=3, random_state=42)\n",
        "clf.fit(X_train, y_train)\n",
        "\n",
        "y_pred = clf.predict(X_test)\n",
        "\n",
        "accuracy = accuracy_score(y_test, y_pred)\n",
        "print(f\"Decision Tree Model Accuracy: {accuracy:.2f}\")"
      ],
      "metadata": {
        "colab": {
          "base_uri": "https://localhost:8080/"
        },
        "id": "_JOFkPgsnxu-",
        "outputId": "515ac1c7-a22f-43f1-c0a5-ed84462a694b"
      },
      "execution_count": 1,
      "outputs": [
        {
          "output_type": "stream",
          "name": "stdout",
          "text": [
            "Decision Tree Model Accuracy: 1.00\n"
          ]
        }
      ]
    },
    {
      "cell_type": "code",
      "source": [
        "# Q17. Write a Python program to train a Decision Tree Classifier using Gini Impurity as the criterion and print the feature importances.\n",
        "\n",
        "from sklearn.datasets import load_iris\n",
        "from sklearn.model_selection import train_test_split\n",
        "from sklearn.tree import DecisionTreeClassifier\n",
        "\n",
        "iris = load_iris()\n",
        "X = iris.data\n",
        "y = iris.target\n",
        "\n",
        "X_train, X_test, y_train, y_test = train_test_split(X, y, test_size=0.2, random_state=42)\n",
        "\n",
        "clf = DecisionTreeClassifier(criterion=\"gini\", random_state=42)\n",
        "clf.fit(X_train, y_train)\n",
        "\n",
        "print(\"Feature Importances:\")\n",
        "for feature, importance in zip(iris.feature_names, clf.feature_importances_):\n",
        "    print(f\"{feature}: {importance:.4f}\")"
      ],
      "metadata": {
        "colab": {
          "base_uri": "https://localhost:8080/"
        },
        "id": "ODNqhtXEoJcm",
        "outputId": "d21b6c27-a754-4f14-f5f3-d62d955fa199"
      },
      "execution_count": 2,
      "outputs": [
        {
          "output_type": "stream",
          "name": "stdout",
          "text": [
            "Feature Importances:\n",
            "sepal length (cm): 0.0000\n",
            "sepal width (cm): 0.0167\n",
            "petal length (cm): 0.9061\n",
            "petal width (cm): 0.0772\n"
          ]
        }
      ]
    },
    {
      "cell_type": "code",
      "source": [
        "# Q18. Write a Python program to train a Decision Tree Classifier using Entropy as the splitting criterion and print the model accuracy.\n",
        "\n",
        "\n",
        "from sklearn.datasets import load_iris\n",
        "from sklearn.model_selection import train_test_split\n",
        "from sklearn.tree import DecisionTreeClassifier\n",
        "from sklearn.metrics import accuracy_score\n",
        "\n",
        "iris = load_iris()\n",
        "X = iris.data\n",
        "y = iris.target\n",
        "\n",
        "X_train, X_test, y_train, y_test = train_test_split(X, y, test_size=0.2, random_state=42)\n",
        "\n",
        "clf = DecisionTreeClassifier(criterion=\"entropy\", random_state=42)\n",
        "clf.fit(X_train, y_train)\n",
        "\n",
        "y_pred = clf.predict(X_test)\n",
        "\n",
        "accuracy = accuracy_score(y_test, y_pred)\n",
        "print(f\"Decision Tree Model Accuracy: {accuracy:.2f}\")"
      ],
      "metadata": {
        "colab": {
          "base_uri": "https://localhost:8080/"
        },
        "id": "iER73g74oQut",
        "outputId": "f2c34c10-953c-4c65-bc0b-1043bc4315d7"
      },
      "execution_count": 3,
      "outputs": [
        {
          "output_type": "stream",
          "name": "stdout",
          "text": [
            "Decision Tree Model Accuracy: 1.00\n"
          ]
        }
      ]
    },
    {
      "cell_type": "code",
      "source": [
        "# Q19. Write a Python program to train a Decision Tree Regressor on a housing dataset and evaluate using Mean Squared Error (MSE).\n",
        "\n",
        "from sklearn.datasets import fetch_california_housing\n",
        "from sklearn.model_selection import train_test_split\n",
        "from sklearn.tree import DecisionTreeRegressor\n",
        "from sklearn.metrics import mean_squared_error\n",
        "\n",
        "housing = fetch_california_housing()\n",
        "X = housing.data\n",
        "y = housing.target\n",
        "\n",
        "X_train, X_test, y_train, y_test = train_test_split(X, y, test_size=0.2, random_state=42)\n",
        "\n",
        "regressor = DecisionTreeRegressor(criterion=\"squared_error\", max_depth=5, random_state=42)\n",
        "regressor.fit(X_train, y_train)\n",
        "\n",
        "y_pred = regressor.predict(X_test)\n",
        "\n",
        "mse = mean_squared_error(y_test, y_pred)\n",
        "print(f\"Mean Squared Error (MSE): {mse:.4f}\")"
      ],
      "metadata": {
        "colab": {
          "base_uri": "https://localhost:8080/"
        },
        "id": "t7y9EOmToXYx",
        "outputId": "ece48415-874f-4eef-a09e-59a55b074e55"
      },
      "execution_count": 4,
      "outputs": [
        {
          "output_type": "stream",
          "name": "stdout",
          "text": [
            "Mean Squared Error (MSE): 0.5245\n"
          ]
        }
      ]
    },
    {
      "cell_type": "code",
      "source": [
        "# Q20. Write a Python program to train a Decision Tree Classifier and visualize the tree using graphviz.\n",
        "\n",
        "from sklearn.datasets import load_iris\n",
        "from sklearn.model_selection import train_test_split\n",
        "from sklearn.tree import DecisionTreeClassifier, export_graphviz\n",
        "import graphviz\n",
        "\n",
        "iris = load_iris()\n",
        "X = iris.data\n",
        "y = iris.target\n",
        "\n",
        "X_train, X_test, y_train, y_test = train_test_split(X, y, test_size=0.2, random_state=42)\n",
        "\n",
        "clf = DecisionTreeClassifier(criterion=\"gini\", max_depth=3, random_state=42)\n",
        "clf.fit(X_train, y_train)\n",
        "\n",
        "dot_data = export_graphviz(\n",
        "    clf, out_file=None, feature_names=iris.feature_names,\n",
        "    class_names=iris.target_names, filled=True, rounded=True, special_characters=True\n",
        ")\n",
        "\n",
        "graph = graphviz.Source(dot_data)\n",
        "graph.view()"
      ],
      "metadata": {
        "colab": {
          "base_uri": "https://localhost:8080/",
          "height": 36
        },
        "id": "a4mdNxh-oeLw",
        "outputId": "f4b8c92b-b46e-49da-a1b4-473090012201"
      },
      "execution_count": 5,
      "outputs": [
        {
          "output_type": "execute_result",
          "data": {
            "text/plain": [
              "'Source.gv.pdf'"
            ],
            "application/vnd.google.colaboratory.intrinsic+json": {
              "type": "string"
            }
          },
          "metadata": {},
          "execution_count": 5
        }
      ]
    },
    {
      "cell_type": "code",
      "source": [
        "# Q21. Write a Python program to train a Decision Tree Classifier with a maximum depth of 3 and compare its accuracy with a fully grown tree.\n",
        "\n",
        "from sklearn.datasets import load_iris\n",
        "from sklearn.model_selection import train_test_split\n",
        "from sklearn.tree import DecisionTreeClassifier\n",
        "from sklearn.metrics import accuracy_score\n",
        "\n",
        "iris = load_iris()\n",
        "X = iris.data\n",
        "y = iris.target\n",
        "\n",
        "X_train, X_test, y_train, y_test = train_test_split(X, y, test_size=0.2, random_state=42)\n",
        "\n",
        "clf_limited = DecisionTreeClassifier(criterion=\"gini\", max_depth=3, random_state=42)\n",
        "clf_limited.fit(X_train, y_train)\n",
        "y_pred_limited = clf_limited.predict(X_test)\n",
        "accuracy_limited = accuracy_score(y_test, y_pred_limited)\n",
        "\n",
        "clf_full = DecisionTreeClassifier(criterion=\"gini\", random_state=42)\n",
        "clf_full.fit(X_train, y_train)\n",
        "y_pred_full = clf_full.predict(X_test)\n",
        "accuracy_full = accuracy_score(y_test, y_pred_full)\n",
        "\n",
        "print(f\"Accuracy with max depth = 3: {accuracy_limited:.2f}\")\n",
        "print(f\"Accuracy with fully grown tree: {accuracy_full:.2f}\")"
      ],
      "metadata": {
        "colab": {
          "base_uri": "https://localhost:8080/"
        },
        "id": "uWJmzo6jomjW",
        "outputId": "7f560433-bccd-49a7-e353-21377510852c"
      },
      "execution_count": 6,
      "outputs": [
        {
          "output_type": "stream",
          "name": "stdout",
          "text": [
            "Accuracy with max depth = 3: 1.00\n",
            "Accuracy with fully grown tree: 1.00\n"
          ]
        }
      ]
    },
    {
      "cell_type": "code",
      "source": [
        "# Q22. Write a Python program to train a Decision Tree Classifier using min_samples_split=5 and compare its accuracy with a default tree.\n",
        "\n",
        "\n",
        "from sklearn.datasets import load_iris\n",
        "from sklearn.model_selection import train_test_split\n",
        "from sklearn.tree import DecisionTreeClassifier\n",
        "from sklearn.metrics import accuracy_score\n",
        "\n",
        "iris = load_iris()\n",
        "X = iris.data\n",
        "y = iris.target\n",
        "\n",
        "X_train, X_test, y_train, y_test = train_test_split(X, y, test_size=0.2, random_state=42)\n",
        "\n",
        "clf_restricted = DecisionTreeClassifier(criterion=\"gini\", min_samples_split=5, random_state=42)\n",
        "clf_restricted.fit(X_train, y_train)\n",
        "y_pred_restricted = clf_restricted.predict(X_test)\n",
        "accuracy_restricted = accuracy_score(y_test, y_pred_restricted)\n",
        "\n",
        "clf_default = DecisionTreeClassifier(criterion=\"gini\", random_state=42)\n",
        "clf_default.fit(X_train, y_train)\n",
        "y_pred_default = clf_default.predict(X_test)\n",
        "accuracy_default = accuracy_score(y_test, y_pred_default)\n",
        "\n",
        "print(f\"Accuracy with min_samples_split=5: {accuracy_restricted:.2f}\")\n",
        "print(f\"Accuracy with default tree: {accuracy_default:.2f}\")"
      ],
      "metadata": {
        "colab": {
          "base_uri": "https://localhost:8080/"
        },
        "id": "QLV3qxonou1g",
        "outputId": "67e15977-86ce-4030-ad46-806bfb112370"
      },
      "execution_count": 7,
      "outputs": [
        {
          "output_type": "stream",
          "name": "stdout",
          "text": [
            "Accuracy with min_samples_split=5: 1.00\n",
            "Accuracy with default tree: 1.00\n"
          ]
        }
      ]
    },
    {
      "cell_type": "code",
      "source": [
        "# Q23. Write a Python program to apply feature scaling before training a Decision Tree Classifier and compare its accuracy with unscaled data.\n",
        "\n",
        "\n",
        "from sklearn.datasets import load_iris\n",
        "from sklearn.model_selection import train_test_split\n",
        "from sklearn.tree import DecisionTreeClassifier\n",
        "from sklearn.preprocessing import StandardScaler\n",
        "from sklearn.metrics import accuracy_score\n",
        "\n",
        "iris = load_iris()\n",
        "X = iris.data\n",
        "y = iris.target\n",
        "\n",
        "X_train, X_test, y_train, y_test = train_test_split(X, y, test_size=0.2, random_state=42)\n",
        "\n",
        "clf_unscaled = DecisionTreeClassifier(random_state=42)\n",
        "clf_unscaled.fit(X_train, y_train)\n",
        "y_pred_unscaled = clf_unscaled.predict(X_test)\n",
        "accuracy_unscaled = accuracy_score(y_test, y_pred_unscaled)\n",
        "\n",
        "scaler = StandardScaler()\n",
        "X_train_scaled = scaler.fit_transform(X_train)\n",
        "X_test_scaled = scaler.transform(X_test)\n",
        "\n",
        "clf_scaled = DecisionTreeClassifier(random_state=42)\n",
        "clf_scaled.fit(X_train_scaled, y_train)\n",
        "y_pred_scaled = clf_scaled.predict(X_test_scaled)\n",
        "accuracy_scaled = accuracy_score(y_test, y_pred_scaled)\n",
        "\n",
        "print(f\"Accuracy without scaling: {accuracy_unscaled:.2f}\")\n",
        "print(f\"Accuracy with feature scaling: {accuracy_scaled:.2f}\")"
      ],
      "metadata": {
        "colab": {
          "base_uri": "https://localhost:8080/"
        },
        "id": "NgfPk-qIo-pu",
        "outputId": "a986c4cc-859d-4662-da2d-4ef9393fa81d"
      },
      "execution_count": 8,
      "outputs": [
        {
          "output_type": "stream",
          "name": "stdout",
          "text": [
            "Accuracy without scaling: 1.00\n",
            "Accuracy with feature scaling: 1.00\n"
          ]
        }
      ]
    },
    {
      "cell_type": "code",
      "source": [
        "# Q24. Write a Python program to train a Decision Tree Classifier using One-vs-Rest (OvR) strategy for multiclass classification.\n",
        "\n",
        "from sklearn.datasets import load_iris\n",
        "from sklearn.model_selection import train_test_split\n",
        "from sklearn.tree import DecisionTreeClassifier\n",
        "from sklearn.multiclass import OneVsRestClassifier\n",
        "from sklearn.metrics import accuracy_score\n",
        "\n",
        "iris = load_iris()\n",
        "X = iris.data\n",
        "y = iris.target\n",
        "\n",
        "X_train, X_test, y_train, y_test = train_test_split(X, y, test_size=0.2, random_state=42)\n",
        "\n",
        "ovr_classifier = OneVsRestClassifier(DecisionTreeClassifier(random_state=42))\n",
        "ovr_classifier.fit(X_train, y_train)\n",
        "\n",
        "y_pred = ovr_classifier.predict(X_test)\n",
        "accuracy = accuracy_score(y_test, y_pred)\n",
        "\n",
        "print(f\"Accuracy using One-vs-Rest (OvR): {accuracy:.2f}\")"
      ],
      "metadata": {
        "colab": {
          "base_uri": "https://localhost:8080/"
        },
        "id": "iSVn_ePHpP0D",
        "outputId": "acd1cb6a-e0a0-4528-d85e-0ceff45e0348"
      },
      "execution_count": 9,
      "outputs": [
        {
          "output_type": "stream",
          "name": "stdout",
          "text": [
            "Accuracy using One-vs-Rest (OvR): 1.00\n"
          ]
        }
      ]
    },
    {
      "cell_type": "code",
      "source": [
        "# Q25. Write a Python program to train a Decision Tree Classifier and display the feature importance scores.\n",
        "\n",
        "from sklearn.datasets import load_iris\n",
        "from sklearn.model_selection import train_test_split\n",
        "from sklearn.tree import DecisionTreeClassifier\n",
        "\n",
        "iris = load_iris()\n",
        "X = iris.data\n",
        "y = iris.target\n",
        "\n",
        "X_train, X_test, y_train, y_test = train_test_split(X, y, test_size=0.2, random_state=42)\n",
        "\n",
        "clf = DecisionTreeClassifier(random_state=42)\n",
        "clf.fit(X_train, y_train)\n",
        "\n",
        "print(\"Feature Importance Scores:\")\n",
        "for feature, importance in zip(iris.feature_names, clf.feature_importances_):\n",
        "    print(f\"{feature}: {importance:.4f}\")"
      ],
      "metadata": {
        "colab": {
          "base_uri": "https://localhost:8080/"
        },
        "id": "vvtvgYALpiZe",
        "outputId": "255763f0-0aea-47ab-9f80-b8ee049c00a7"
      },
      "execution_count": 10,
      "outputs": [
        {
          "output_type": "stream",
          "name": "stdout",
          "text": [
            "Feature Importance Scores:\n",
            "sepal length (cm): 0.0000\n",
            "sepal width (cm): 0.0167\n",
            "petal length (cm): 0.9061\n",
            "petal width (cm): 0.0772\n"
          ]
        }
      ]
    },
    {
      "cell_type": "code",
      "source": [
        "# Q26. Write a Python program to train a Decision Tree Regressor with max_depth=5 and compare its performance with an unrestricted tree.\n",
        "\n",
        "from sklearn.datasets import fetch_california_housing\n",
        "from sklearn.model_selection import train_test_split\n",
        "from sklearn.tree import DecisionTreeRegressor\n",
        "from sklearn.metrics import mean_squared_error\n",
        "\n",
        "housing = fetch_california_housing()\n",
        "X = housing.data\n",
        "y = housing.target\n",
        "\n",
        "X_train, X_test, y_train, y_test = train_test_split(X, y, test_size=0.2, random_state=42)\n",
        "\n",
        "regressor_limited = DecisionTreeRegressor(max_depth=5, random_state=42)\n",
        "regressor_limited.fit(X_train, y_train)\n",
        "y_pred_limited = regressor_limited.predict(X_test)\n",
        "mse_limited = mean_squared_error(y_test, y_pred_limited)\n",
        "\n",
        "regressor_full = DecisionTreeRegressor(random_state=42)\n",
        "regressor_full.fit(X_train, y_train)\n",
        "y_pred_full = regressor_full.predict(X_test)\n",
        "mse_full = mean_squared_error(y_test, y_pred_full)\n",
        "\n",
        "print(f\"Mean Squared Error with max_depth=5: {mse_limited:.4f}\")\n",
        "print(f\"Mean Squared Error with unrestricted tree: {mse_full:.4f}\")"
      ],
      "metadata": {
        "colab": {
          "base_uri": "https://localhost:8080/"
        },
        "id": "Y0pROQnwqDhY",
        "outputId": "db31622c-da97-405e-8d93-af410bacbcf3"
      },
      "execution_count": 11,
      "outputs": [
        {
          "output_type": "stream",
          "name": "stdout",
          "text": [
            "Mean Squared Error with max_depth=5: 0.5245\n",
            "Mean Squared Error with unrestricted tree: 0.4952\n"
          ]
        }
      ]
    },
    {
      "cell_type": "code",
      "source": [
        "# Q27. Write a Python program to train a Decision Tree Classifier, apply Cost Complexity Pruning (CCP), and visualize its effect on accuracy.\n",
        "\n",
        "import numpy as np\n",
        "import matplotlib.pyplot as plt\n",
        "from sklearn.datasets import load_iris\n",
        "from sklearn.model_selection import train_test_split\n",
        "from sklearn.tree import DecisionTreeClassifier\n",
        "from sklearn.metrics import accuracy_score\n",
        "\n",
        "iris = load_iris()\n",
        "X = iris.data\n",
        "y = iris.target\n",
        "\n",
        "X_train, X_test, y_train, y_test = train_test_split(X, y, test_size=0.2, random_state=42)\n",
        "\n",
        "clf = DecisionTreeClassifier(random_state=42)\n",
        "path = clf.cost_complexity_pruning_path(X_train, y_train)\n",
        "ccp_alphas = path.ccp_alphas\n",
        "\n",
        "train_scores = []\n",
        "test_scores = []\n",
        "\n",
        "for alpha in ccp_alphas:\n",
        "    clf_pruned = DecisionTreeClassifier(random_state=42, ccp_alpha=alpha)\n",
        "    clf_pruned.fit(X_train, y_train)\n",
        "\n",
        "    y_train_pred = clf_pruned.predict(X_train)\n",
        "    y_test_pred = clf_pruned.predict(X_test)\n",
        "\n",
        "    train_scores.append(accuracy_score(y_train, y_train_pred))\n",
        "    test_scores.append(accuracy_score(y_test, y_test_pred))\n",
        "\n",
        "plt.figure(figsize=(8, 5))\n",
        "plt.plot(ccp_alphas, train_scores, marker=\"o\", label=\"Train Accuracy\")\n",
        "plt.plot(ccp_alphas, test_scores, marker=\"o\", label=\"Test Accuracy\")\n",
        "plt.xlabel(\"CCP Alpha\")\n",
        "plt.ylabel(\"Accuracy\")\n",
        "plt.title(\"Effect of Cost Complexity Pruning on Accuracy\")\n",
        "plt.legend()\n",
        "plt.show()"
      ],
      "metadata": {
        "colab": {
          "base_uri": "https://localhost:8080/",
          "height": 487
        },
        "id": "nyAgB_QLqOF7",
        "outputId": "d2c9e136-6d72-4fc7-a5a7-f30cc306e825"
      },
      "execution_count": 12,
      "outputs": [
        {
          "output_type": "display_data",
          "data": {
            "text/plain": [
              "<Figure size 800x500 with 1 Axes>"
            ],
            "image/png": "[encoded data removed]"
          },
          "metadata": {}
        }
      ]
    },
    {
      "cell_type": "code",
      "source": [
        "# Q28. Write a Python program to train a Decision Tree Classifier and evaluate its performance using Precision, Recall, and F1-Score.\n",
        "\n",
        "\n",
        "from sklearn.datasets import load_iris\n",
        "from sklearn.model_selection import train_test_split\n",
        "from sklearn.tree import DecisionTreeClassifier\n",
        "from sklearn.metrics import precision_score, recall_score, f1_score\n",
        "\n",
        "iris = load_iris()\n",
        "X = iris.data\n",
        "y = iris.target\n",
        "\n",
        "X_train, X_test, y_train, y_test = train_test_split(X, y, test_size=0.2, random_state=42)\n",
        "\n",
        "clf = DecisionTreeClassifier(random_state=42)\n",
        "clf.fit(X_train, y_train)\n",
        "\n",
        "y_pred = clf.predict(X_test)\n",
        "\n",
        "precision = precision_score(y_test, y_pred, average=\"weighted\")\n",
        "recall = recall_score(y_test, y_pred, average=\"weighted\")\n",
        "f1 = f1_score(y_test, y_pred, average=\"weighted\")\n",
        "\n",
        "print(f\"Precision: {precision:.2f}\")\n",
        "print(f\"Recall: {recall:.2f}\")\n",
        "print(f\"F1-Score: {f1:.2f}\")"
      ],
      "metadata": {
        "colab": {
          "base_uri": "https://localhost:8080/"
        },
        "id": "BZku07-RqUOQ",
        "outputId": "84b38186-200b-4eaf-8957-8523a6490301"
      },
      "execution_count": 13,
      "outputs": [
        {
          "output_type": "stream",
          "name": "stdout",
          "text": [
            "Precision: 1.00\n",
            "Recall: 1.00\n",
            "F1-Score: 1.00\n"
          ]
        }
      ]
    },
    {
      "cell_type": "code",
      "source": [
        "# Q29. Write a Python program to train a Decision Tree Classifier and visualize the confusion matrix using seaborn.\n",
        "\n",
        "import seaborn as sns\n",
        "import matplotlib.pyplot as plt\n",
        "from sklearn.datasets import load_iris\n",
        "from sklearn.model_selection import train_test_split\n",
        "from sklearn.tree import DecisionTreeClassifier\n",
        "from sklearn.metrics import confusion_matrix\n",
        "\n",
        "iris = load_iris()\n",
        "X = iris.data\n",
        "y = iris.target\n",
        "\n",
        "X_train, X_test, y_train, y_test = train_test_split(X, y, test_size=0.2, random_state=42)\n",
        "\n",
        "clf = DecisionTreeClassifier(random_state=42)\n",
        "clf.fit(X_train, y_train)\n",
        "\n",
        "y_pred = clf.predict(X_test)\n",
        "\n",
        "cm = confusion_matrix(y_test, y_pred)\n",
        "\n",
        "plt.figure(figsize=(6, 4))\n",
        "sns.heatmap(cm, annot=True, fmt=\"d\", cmap=\"Blues\", xticklabels=iris.target_names, yticklabels=iris.target_names)\n",
        "plt.xlabel(\"Predicted Label\")\n",
        "plt.ylabel(\"True Label\")\n",
        "plt.title(\"Confusion Matrix\")\n",
        "plt.show()"
      ],
      "metadata": {
        "colab": {
          "base_uri": "https://localhost:8080/",
          "height": 410
        },
        "id": "IQKE_wNfqdTH",
        "outputId": "557026a1-d165-48fa-ec74-a87c11823f21"
      },
      "execution_count": 14,
      "outputs": [
        {
          "output_type": "display_data",
          "data": {
            "text/plain": [
              "<Figure size 600x400 with 2 Axes>"
            ],
            "image/png": "[encoded data removed]"
          },
          "metadata": {}
        }
      ]
    },
    {
      "cell_type": "code",
      "source": [
        "# Q30. Write a Python program to train a Decision Tree Classifier and use GridSearchCV to find the optimal values for max_depth and min_samples_split.\n",
        "\n",
        "\n",
        "from sklearn.datasets import load_iris\n",
        "from sklearn.model_selection import train_test_split, GridSearchCV\n",
        "from sklearn.tree import DecisionTreeClassifier\n",
        "\n",
        "iris = load_iris()\n",
        "X = iris.data\n",
        "y = iris.target\n",
        "\n",
        "X_train, X_test, y_train, y_test = train_test_split(X, y, test_size=0.2, random_state=42)\n",
        "\n",
        "param_grid = {\n",
        "    \"max_depth\": [3, 5, 10, None],\n",
        "    \"min_samples_split\": [2, 5, 10]\n",
        "}\n",
        "\n",
        "clf = DecisionTreeClassifier(random_state=42)\n",
        "grid_search = GridSearchCV(clf, param_grid, cv=5, scoring=\"accuracy\")\n",
        "grid_search.fit(X_train, y_train)\n",
        "\n",
        "print(f\"Best Parameters: {grid_search.best_params_}\")\n",
        "print(f\"Best Accuracy: {grid_search.best_score_:.2f}\")\n",
        "\n",
        "best_clf = grid_search.best_estimator_\n",
        "test_accuracy = best_clf.score(X_test, y_test)\n",
        "print(f\"Test Accuracy with Best Parameters: {test_accuracy:.2f}\")"
      ],
      "metadata": {
        "colab": {
          "base_uri": "https://localhost:8080/"
        },
        "id": "-gd0pP2sqj6d",
        "outputId": "8e38619c-1c8d-4ae8-c477-c50f997a121c"
      },
      "execution_count": 15,
      "outputs": [
        {
          "output_type": "stream",
          "name": "stdout",
          "text": [
            "Best Parameters: {'max_depth': 10, 'min_samples_split': 2}\n",
            "Best Accuracy: 0.94\n",
            "Test Accuracy with Best Parameters: 1.00\n"
          ]
        }
      ]
    },
    {
      "cell_type": "markdown",
      "source": [
        "# **Thank You Sir/Ma'am**\n",
        "**Your's Sincerely, Darshan Panchal**"
      ],
      "metadata": {
        "id": "3s4ZupKRrFvQ"
      }
    }
  ]
}